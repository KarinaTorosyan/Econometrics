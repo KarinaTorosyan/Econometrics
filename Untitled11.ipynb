{
  "metadata": {
    "language_info": {
      "codemirror_mode": {
        "name": "python",
        "version": 3
      },
      "file_extension": ".py",
      "mimetype": "text/x-python",
      "name": "python",
      "nbconvert_exporter": "python",
      "pygments_lexer": "ipython3",
      "version": "3.8"
    },
    "kernelspec": {
      "name": "python",
      "display_name": "Pyolite",
      "language": "python"
    }
  },
  "nbformat_minor": 4,
  "nbformat": 4,
  "cells": [
    {
      "cell_type": "code",
      "source": "import pandas as pd\nimport numpy as np",
      "metadata": {
        "trusted": true
      },
      "execution_count": 1,
      "outputs": []
    },
    {
      "cell_type": "code",
      "source": "s = pd.Series()\nprint(s)",
      "metadata": {
        "trusted": true
      },
      "execution_count": 2,
      "outputs": [
        {
          "name": "stderr",
          "text": "<ipython-input-2-893de6a9497a>:1: FutureWarning: The default dtype for empty Series will be 'object' instead of 'float64' in a future version. Specify a dtype explicitly to silence this warning.\n  s = pd.Series()\n",
          "output_type": "stream"
        },
        {
          "name": "stdout",
          "text": "Series([], dtype: float64)\n",
          "output_type": "stream"
        }
      ]
    },
    {
      "cell_type": "code",
      "source": "data = np.array(['a','b','c','d']) \ns = pd.Series(data) #default indexing was used\n\nprint(data)\nprint('\\n')\nprint(s)",
      "metadata": {
        "trusted": true
      },
      "execution_count": 3,
      "outputs": [
        {
          "name": "stdout",
          "text": "['a' 'b' 'c' 'd']\n\n\n0    a\n1    b\n2    c\n3    d\ndtype: object\n",
          "output_type": "stream"
        }
      ]
    },
    {
      "cell_type": "code",
      "source": "s",
      "metadata": {
        "trusted": true
      },
      "execution_count": 4,
      "outputs": [
        {
          "execution_count": 4,
          "output_type": "execute_result",
          "data": {
            "text/plain": "0    a\n1    b\n2    c\n3    d\ndtype: object"
          },
          "metadata": {}
        }
      ]
    },
    {
      "cell_type": "code",
      "source": "print(s.index)\nprint(s.index.tolist())\nprint(list(s.index))",
      "metadata": {
        "trusted": true
      },
      "execution_count": 6,
      "outputs": [
        {
          "name": "stdout",
          "text": "RangeIndex(start=0, stop=4, step=1)\n[0, 1, 2, 3]\n[0, 1, 2, 3]\n",
          "output_type": "stream"
        }
      ]
    },
    {
      "cell_type": "code",
      "source": "s = pd.Series(data,index=['100','101','102','103'])\n\nprint(data)\nprint('\\n')\nprint(s)",
      "metadata": {
        "trusted": true
      },
      "execution_count": 7,
      "outputs": [
        {
          "name": "stdout",
          "text": "['a' 'b' 'c' 'd']\n\n\n100    a\n101    b\n102    c\n103    d\ndtype: object\n",
          "output_type": "stream"
        }
      ]
    },
    {
      "cell_type": "code",
      "source": "s = pd.Series(5, index=[0, 1, 2, 3, 4, 5, 23])#, dtype=float)\nprint(s)",
      "metadata": {
        "trusted": true
      },
      "execution_count": 8,
      "outputs": [
        {
          "name": "stdout",
          "text": "0     5\n1     5\n2     5\n3     5\n4     5\n5     5\n23    5\ndtype: int64\n",
          "output_type": "stream"
        }
      ]
    },
    {
      "cell_type": "code",
      "source": "data = {'a' : 0., 'b' : 1., 'c' : 2.}\ns = pd.Series(data)\n\nprint(data)\nprint('\\n')\nprint(s)",
      "metadata": {
        "trusted": true
      },
      "execution_count": 9,
      "outputs": [
        {
          "name": "stdout",
          "text": "{'a': 0.0, 'b': 1.0, 'c': 2.0}\n\n\na    0.0\nb    1.0\nc    2.0\ndtype: float64\n",
          "output_type": "stream"
        }
      ]
    },
    {
      "cell_type": "code",
      "source": "data = {'a' : 0., 'b' : 1., 'c' : 2.}\ns = pd.Series(data, index = ['a',1,2])\n\nprint(data)\nprint('\\n')\nprint(s)",
      "metadata": {
        "trusted": true
      },
      "execution_count": 10,
      "outputs": [
        {
          "name": "stdout",
          "text": "{'a': 0.0, 'b': 1.0, 'c': 2.0}\n\n\na    0.0\n1    NaN\n2    NaN\ndtype: float64\n",
          "output_type": "stream"
        }
      ]
    },
    {
      "cell_type": "code",
      "source": "s = pd.Series([1,2,3,4,5],index = ('a','f','b','q','c'))\n\nprint(s)\nprint('\\n')\n\nprint('Forth element')\nprint(s[3])\nprint('\\n')\n\nprint('Elements 3-5')\nprint(s[2:4])\nprint('\\n')\n\nprint('The last 3 elements')\nprint(s[-3:])\nprint('\\n')\n\nprint('Letter indexing')\nprint(s['a':'b'])",
      "metadata": {
        "trusted": true
      },
      "execution_count": 11,
      "outputs": [
        {
          "name": "stdout",
          "text": "a    1\nf    2\nb    3\nq    4\nc    5\ndtype: int64\n\n\nForth element\n4\n\n\nElements 3-5\nb    3\nq    4\ndtype: int64\n\n\nThe last 3 elements\nb    3\nq    4\nc    5\ndtype: int64\n\n\nLetter indexing\na    1\nf    2\nb    3\ndtype: int64\n",
          "output_type": "stream"
        }
      ]
    },
    {
      "cell_type": "code",
      "source": "s = pd.Series([1,2,3,4,5],index = (0, 2, 3, 4, 7))\n\nprint(s)\nprint('\\n')\n\nprint('Forth element')\nprint(s[2:4])\nprint('\\n')",
      "metadata": {
        "trusted": true
      },
      "execution_count": 12,
      "outputs": [
        {
          "name": "stdout",
          "text": "0    1\n2    2\n3    3\n4    4\n7    5\ndtype: int64\n\n\nForth element\n3    3\n4    4\ndtype: int64\n\n\n",
          "output_type": "stream"
        }
      ]
    },
    {
      "cell_type": "code",
      "source": "np.random.randn(8, 4)",
      "metadata": {
        "trusted": true
      },
      "execution_count": 13,
      "outputs": [
        {
          "execution_count": 13,
          "output_type": "execute_result",
          "data": {
            "text/plain": "array([[ 0.37223755,  0.72540685,  0.95799959, -0.25219083],\n       [-0.7583205 ,  1.69430925,  1.14925009, -0.70411146],\n       [ 1.02330366,  0.89420302,  0.60402102,  0.51016134],\n       [-0.22045752,  3.39531019, -0.71777207,  0.08137028],\n       [ 0.36859864,  0.24252292, -0.93105262, -0.26328779],\n       [ 0.89775817, -0.37350569,  0.62914277, -0.82918395],\n       [ 1.15605736,  0.91584571, -0.8622861 , -0.10287796],\n       [ 2.30866185,  0.25871694, -0.3825251 ,  2.65906038]])"
          },
          "metadata": {}
        }
      ]
    },
    {
      "cell_type": "code",
      "source": "df = pd.DataFrame(np.random.randn(8, 4),\nindex = ['a','b','c','d','e','f','g','h'], columns = ['A', 'B', 'C', 'D'])\n\n\n#select some rows for specific columns\nprint(df)\nprint('\\n')\nprint(df.loc[['a','b'],['A','B']])\nprint('\\n')",
      "metadata": {
        "trusted": true
      },
      "execution_count": 14,
      "outputs": [
        {
          "name": "stdout",
          "text": "          A         B         C         D\na  0.090650  0.082984  0.762402 -0.293268\nb  1.490381  0.919827  0.409967  0.171858\nc -0.358717  0.336473 -0.084437 -0.606396\nd -0.502498 -0.413760  0.139464  1.181834\ne  0.639770 -1.651018  0.445659 -1.542850\nf -0.744766 -0.668687  0.516605 -1.824053\ng -0.245134  0.787570  1.169696 -3.117610\nh -1.170122  0.715234 -0.103281  0.643061\n\n\n          A         B\na  0.090650  0.082984\nb  1.490381  0.919827\n\n\n",
          "output_type": "stream"
        }
      ]
    },
    {
      "cell_type": "code",
      "source": "df['A'] = 10000\ndf",
      "metadata": {
        "trusted": true
      },
      "execution_count": 15,
      "outputs": [
        {
          "execution_count": 15,
          "output_type": "execute_result",
          "data": {
            "text/plain": "       A         B         C         D\na  10000  0.082984  0.762402 -0.293268\nb  10000  0.919827  0.409967  0.171858\nc  10000  0.336473 -0.084437 -0.606396\nd  10000 -0.413760  0.139464  1.181834\ne  10000 -1.651018  0.445659 -1.542850\nf  10000 -0.668687  0.516605 -1.824053\ng  10000  0.787570  1.169696 -3.117610\nh  10000  0.715234 -0.103281  0.643061",
            "text/html": "<div>\n<style scoped>\n    .dataframe tbody tr th:only-of-type {\n        vertical-align: middle;\n    }\n\n    .dataframe tbody tr th {\n        vertical-align: top;\n    }\n\n    .dataframe thead th {\n        text-align: right;\n    }\n</style>\n<table border=\"1\" class=\"dataframe\">\n  <thead>\n    <tr style=\"text-align: right;\">\n      <th></th>\n      <th>A</th>\n      <th>B</th>\n      <th>C</th>\n      <th>D</th>\n    </tr>\n  </thead>\n  <tbody>\n    <tr>\n      <th>a</th>\n      <td>10000</td>\n      <td>0.082984</td>\n      <td>0.762402</td>\n      <td>-0.293268</td>\n    </tr>\n    <tr>\n      <th>b</th>\n      <td>10000</td>\n      <td>0.919827</td>\n      <td>0.409967</td>\n      <td>0.171858</td>\n    </tr>\n    <tr>\n      <th>c</th>\n      <td>10000</td>\n      <td>0.336473</td>\n      <td>-0.084437</td>\n      <td>-0.606396</td>\n    </tr>\n    <tr>\n      <th>d</th>\n      <td>10000</td>\n      <td>-0.413760</td>\n      <td>0.139464</td>\n      <td>1.181834</td>\n    </tr>\n    <tr>\n      <th>e</th>\n      <td>10000</td>\n      <td>-1.651018</td>\n      <td>0.445659</td>\n      <td>-1.542850</td>\n    </tr>\n    <tr>\n      <th>f</th>\n      <td>10000</td>\n      <td>-0.668687</td>\n      <td>0.516605</td>\n      <td>-1.824053</td>\n    </tr>\n    <tr>\n      <th>g</th>\n      <td>10000</td>\n      <td>0.787570</td>\n      <td>1.169696</td>\n      <td>-3.117610</td>\n    </tr>\n    <tr>\n      <th>h</th>\n      <td>10000</td>\n      <td>0.715234</td>\n      <td>-0.103281</td>\n      <td>0.643061</td>\n    </tr>\n  </tbody>\n</table>\n</div>"
          },
          "metadata": {}
        }
      ]
    },
    {
      "cell_type": "code",
      "source": "df = pd.DataFrame(np.random.randn(8, 4),\nindex = ['a','b','c','d','e','f','g','h'], columns = ['A', 'B', 'C', 'D'])\n\n\nprint(df)\nprint('\\n')\nprint(df.iloc[0:3,[0,1]])\nprint('\\n')",
      "metadata": {
        "trusted": true
      },
      "execution_count": 16,
      "outputs": [
        {
          "name": "stdout",
          "text": "          A         B         C         D\na -1.064808 -0.511779  2.334979 -0.871996\nb  1.072687  1.500769  0.033495  0.430730\nc  0.385252  1.727719 -0.434861  2.097847\nd  0.274553 -1.638457  2.578361 -2.304635\ne  1.043760  1.185390  0.511474  0.199647\nf  0.953122 -0.469041 -1.184935  1.482259\ng  0.732357  1.228779 -1.289189  0.717773\nh -0.273711  0.468158  0.106178  0.413538\n\n\n          A         B\na -1.064808 -0.511779\nb  1.072687  1.500769\nc  0.385252  1.727719\n\n\n",
          "output_type": "stream"
        }
      ]
    },
    {
      "cell_type": "code",
      "source": "",
      "metadata": {},
      "execution_count": null,
      "outputs": []
    }
  ]
}