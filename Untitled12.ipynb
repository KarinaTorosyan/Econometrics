{
  "metadata": {
    "language_info": {
      "codemirror_mode": {
        "name": "python",
        "version": 3
      },
      "file_extension": ".py",
      "mimetype": "text/x-python",
      "name": "python",
      "nbconvert_exporter": "python",
      "pygments_lexer": "ipython3",
      "version": "3.8"
    },
    "kernelspec": {
      "name": "python",
      "display_name": "Pyolite",
      "language": "python"
    }
  },
  "nbformat_minor": 4,
  "nbformat": 4,
  "cells": [
    {
      "cell_type": "code",
      "source": "#pip install numpy",
      "metadata": {
        "trusted": true
      },
      "execution_count": 1,
      "outputs": []
    },
    {
      "cell_type": "code",
      "source": "import numpy as np",
      "metadata": {
        "trusted": true
      },
      "execution_count": 2,
      "outputs": []
    },
    {
      "cell_type": "code",
      "source": "a = np.array([1,2,3]) \nprint(a)\nprint(type(a))\na",
      "metadata": {
        "trusted": true
      },
      "execution_count": 3,
      "outputs": [
        {
          "name": "stdout",
          "text": "[1 2 3]\n<class 'numpy.ndarray'>\n",
          "output_type": "stream"
        },
        {
          "execution_count": 3,
          "output_type": "execute_result",
          "data": {
            "text/plain": "array([1, 2, 3])"
          },
          "metadata": {}
        }
      ]
    },
    {
      "cell_type": "code",
      "source": "a = np.array([[1, 2], [3, 4]]) \na",
      "metadata": {
        "trusted": true
      },
      "execution_count": 4,
      "outputs": [
        {
          "execution_count": 4,
          "output_type": "execute_result",
          "data": {
            "text/plain": "array([[1, 2],\n       [3, 4]])"
          },
          "metadata": {}
        }
      ]
    },
    {
      "cell_type": "code",
      "source": "help(np.arange)",
      "metadata": {
        "trusted": true
      },
      "execution_count": 5,
      "outputs": [
        {
          "name": "stdout",
          "text": "Help on built-in function arange in module numpy:\n\narange(...)\n    arange([start,] stop[, step,], dtype=None, *, like=None)\n    \n    Return evenly spaced values within a given interval.\n    \n    Values are generated within the half-open interval ``[start, stop)``\n    (in other words, the interval including `start` but excluding `stop`).\n    For integer arguments the function is equivalent to the Python built-in\n    `range` function, but returns an ndarray rather than a list.\n    \n    When using a non-integer step, such as 0.1, it is often better to use\n    `numpy.linspace`. See the warnings section below for more information.\n    \n    Parameters\n    ----------\n    start : integer or real, optional\n        Start of interval.  The interval includes this value.  The default\n        start value is 0.\n    stop : integer or real\n        End of interval.  The interval does not include this value, except\n        in some cases where `step` is not an integer and floating point\n        round-off affects the length of `out`.\n    step : integer or real, optional\n        Spacing between values.  For any output `out`, this is the distance\n        between two adjacent values, ``out[i+1] - out[i]``.  The default\n        step size is 1.  If `step` is specified as a position argument,\n        `start` must also be given.\n    dtype : dtype\n        The type of the output array.  If `dtype` is not given, infer the data\n        type from the other input arguments.\n    like : array_like\n        Reference object to allow the creation of arrays which are not\n        NumPy arrays. If an array-like passed in as ``like`` supports\n        the ``__array_function__`` protocol, the result will be defined\n        by it. In this case, it ensures the creation of an array object\n        compatible with that passed in via this argument.\n    \n        .. versionadded:: 1.20.0\n    \n    Returns\n    -------\n    arange : ndarray\n        Array of evenly spaced values.\n    \n        For floating point arguments, the length of the result is\n        ``ceil((stop - start)/step)``.  Because of floating point overflow,\n        this rule may result in the last element of `out` being greater\n        than `stop`.\n    \n    Warnings\n    --------\n    The length of the output might not be numerically stable.\n    \n    Another stability issue is due to the internal implementation of\n    `numpy.arange`.\n    The actual step value used to populate the array is\n    ``dtype(start + step) - dtype(start)`` and not `step`. Precision loss\n    can occur here, due to casting or due to using floating points when\n    `start` is much larger than `step`. This can lead to unexpected\n    behaviour. For example::\n    \n      >>> np.arange(0, 5, 0.5, dtype=int)\n      array([0, 0, 0, 0, 0, 0, 0, 0, 0, 0])\n      >>> np.arange(-3, 3, 0.5, dtype=int)\n      array([-3, -2, -1,  0,  1,  2,  3,  4,  5,  6,  7,  8])\n    \n    In such cases, the use of `numpy.linspace` should be preferred.\n    \n    See Also\n    --------\n    numpy.linspace : Evenly spaced numbers with careful handling of endpoints.\n    numpy.ogrid: Arrays of evenly spaced numbers in N-dimensions.\n    numpy.mgrid: Grid-shaped arrays of evenly spaced numbers in N-dimensions.\n    \n    Examples\n    --------\n    >>> np.arange(3)\n    array([0, 1, 2])\n    >>> np.arange(3.0)\n    array([ 0.,  1.,  2.])\n    >>> np.arange(3,7)\n    array([3, 4, 5, 6])\n    >>> np.arange(3,7,2)\n    array([3, 5])\n\n",
          "output_type": "stream"
        }
      ]
    },
    {
      "cell_type": "code",
      "source": "a = np.array([[1,2,3],[4,5,6]]) \nprint(a.shape)\nprint(a)",
      "metadata": {
        "trusted": true
      },
      "execution_count": 6,
      "outputs": [
        {
          "name": "stdout",
          "text": "(2, 3)\n[[1 2 3]\n [4 5 6]]\n",
          "output_type": "stream"
        }
      ]
    },
    {
      "cell_type": "code",
      "source": "a = np.arange(24) \nprint(a)\nprint(a.ndim) ",
      "metadata": {
        "trusted": true
      },
      "execution_count": 7,
      "outputs": [
        {
          "name": "stdout",
          "text": "[ 0  1  2  3  4  5  6  7  8  9 10 11 12 13 14 15 16 17 18 19 20 21 22 23]\n1\n",
          "output_type": "stream"
        }
      ]
    },
    {
      "cell_type": "code",
      "source": "",
      "metadata": {},
      "execution_count": null,
      "outputs": []
    }
  ]
}